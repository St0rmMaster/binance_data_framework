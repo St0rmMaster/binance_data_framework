{
 "cells": [
  {
   "cell_type": "code",
   "execution_count": null,
   "metadata": {},
   "outputs": [],
   "source": [
    "#!/usr/bin/env python\n",
    "# -*- coding: utf-8 -*-\n",
    "\n",
    "\"\"\"\n",
    "Пример использования Binance US Data Framework в Google Colab.\n",
    "Скопируйте этот код в ячейку Colab и запустите.\n",
    "\"\"\"\n",
    "\n",
    "# Установка фреймворка и зависимостей\n",
    "!pip install python-binance pandas ipywidgets matplotlib duckdb\n",
    "\n",
    "# Клонирование репозитория и установка фреймворка\n",
    "!git clone https://github.com/St0rmMaster/binance_data_framework.git\n",
    "%cd binance_data_framework\n",
    "\n",
    "!pip install -e .\n",
    "%cd ..\n",
    "\n",
    "# Импорт необходимых библиотек\n",
    "import pandas as pd\n",
    "import matplotlib.pyplot as plt\n",
    "from datetime import datetime, timedelta\n",
    "from IPython.display import display, HTML\n",
    "from binance_data_framework import BinanceUSClient, LocalDataManager, DataDownloaderUI\n",
    "\n",
    "# Инициализация клиентов\n",
    "# Можно использовать ключи API, если они доступны\n",
    "# from google.colab import userdata\n",
    "# api_key = userdata.get('BINANCE_US_API_KEY')\n",
    "# api_secret = userdata.get('BINANCE_US_API_SECRET')\n",
    "# api_client = BinanceUSClient(api_key=api_key, api_secret=api_secret)\n",
    "\n",
    "api_client = BinanceUSClient(api_key=None, api_secret=None)\n",
    "connection_status = api_client.connect()\n",
    "\n",
    "if connection_status:\n",
    "    print(\"Успешное подключение к Binance US API\")\n",
    "else:\n",
    "    print(\"Ошибка подключения к Binance US API\")\n",
    "    raise Exception(\"Не удалось подключиться к API\")\n",
    "\n",
    "# Инициализация менеджера базы данных\n",
    "db_manager = LocalDataManager(db_path='binance_data.db')\n",
    "\n",
    "# Создание и отображение интерактивного интерфейса\n",
    "ui = DataDownloaderUI(api_client, db_manager)\n",
    "ui.display()\n",
    "\n",
    "# Примечание: После запуска интерфейса, вы можете выбрать торговую пару, \n",
    "# таймфрейм, период и загрузить данные. \n",
    "# При желании, вы можете добавить дополнительный код для \n",
    "# программного получения данных ниже. "
   ]
  }
 ],
 "metadata": {
  "kernelspec": {
   "display_name": "Python 3.7",
   "language": "python",
   "name": "py37"
  },
  "language_info": {
   "codemirror_mode": {
    "name": "ipython",
    "version": 3
   },
   "file_extension": ".py",
   "mimetype": "text/x-python",
   "name": "python",
   "nbconvert_exporter": "python",
   "pygments_lexer": "ipython3",
   "version": "3.10.11"
  }
 },
 "nbformat": 4,
 "nbformat_minor": 2
}
