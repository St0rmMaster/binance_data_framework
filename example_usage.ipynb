{
 "cells": [
  {
   "cell_type": "code",
   "execution_count": null,
   "metadata": {
    "vscode": {
     "languageId": "plaintext"
    }
   },
   "outputs": [],
   "source": [
    "# ШАГ 1: Установка обновленного фреймворка\n",
    "!pip install --no-cache-dir git+https://github.com/St0rmMaster/binance_data_framework.git --quiet\n",
    "\n",
    "# ШАГ 2: Минимально необходимые импорты\n",
    "from google.colab import output\n",
    "from binance_data_framework import BinanceUSClient, GoogleDriveDataManager, DataDownloaderUI\n",
    "\n",
    "# ШАГ 3: Инициализация API клиента\n",
    "api_client = BinanceUSClient()\n",
    "\n",
    "# ШАГ 4: Инициализация менеджера данных\n",
    "# Используется только GoogleDriveDataManager, без параметров\n",
    "\n",
    "# ШАГ 5: Включение поддержки виджетов\n",
    "output.enable_custom_widget_manager()\n",
    "\n",
    "# ШАГ 6: Создание и отображение интерфейса\n",
    "ui = DataDownloaderUI(api_client=api_client, db_manager=GoogleDriveDataManager())\n",
    "ui.display()"
   ]
  }
 ],
 "metadata": {
  "kernelspec": {
   "display_name": "Python 3.7",
   "language": "python",
   "name": "py37"
  },
  "language_info": {
   "codemirror_mode": {
    "name": "ipython",
    "version": 3
   },
   "file_extension": ".py",
   "mimetype": "text/x-python",
   "name": "python",
   "nbconvert_exporter": "python",
   "pygments_lexer": "ipython3",
   "version": "3.10.11"
  }
 },
 "nbformat": 4,
 "nbformat_minor": 2
}
