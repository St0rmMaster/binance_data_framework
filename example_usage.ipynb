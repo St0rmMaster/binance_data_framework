{
 "cells": [
  {
   "cell_type": "markdown",
   "metadata": {},
   "source": [
    "# Пример использования Binance US Data Framework\n",
    "\n",
    "Этот ноутбук демонстрирует использование фреймворка для загрузки и хранения исторических данных Binance US с возможностью работы как с локальной SQLite базой данных, так и с облачной базой данных Google Cloud SQL."
   ]
  },
  {
   "cell_type": "code",
   "execution_count": null,
   "metadata": {},
   "outputs": [],
   "source": [
    "#!/usr/bin/env python\n",
    "# -*- coding: utf-8 -*-\n",
    "\n",
    "\"\"\"\n",
    "Пример использования Binance US Data Framework в Google Colab.\n",
    "Скопируйте этот код в ячейку Colab и запустите.\n",
    "\"\"\"\n",
    "\n",
    "# Установка фреймворка и зависимостей\n",
    "!pip install python-binance pandas ipywidgets matplotlib duckdb sqlalchemy pymysql cryptography\n",
    "\n",
    "# Клонирование репозитория и установка фреймворка\n",
    "!git clone git+https://github.com/St0rmMaster/binance_data_framework.git\n",
    "%cd binance_data_framework\n",
    "\n",
    "!pip install -e .\n",
    "%cd ..\n",
    "\n",
    "# Импорт необходимых библиотек\n",
    "import pandas as pd\n",
    "import matplotlib.pyplot as plt\n",
    "from datetime import datetime, timedelta\n",
    "from IPython.display import display, HTML\n",
    "from binance_data_framework import BinanceUSClient, LocalDataManager, DataDownloaderUI\n",
    "\n",
    "# Инициализация клиентов\n",
    "# Можно использовать ключи API, если они доступны\n",
    "# from google.colab import userdata\n",
    "# api_key = userdata.get('BINANCE_US_API_KEY')\n",
    "# api_secret = userdata.get('BINANCE_US_API_SECRET')\n",
    "# api_client = BinanceUSClient(api_key=api_key, api_secret=api_secret)\n",
    "\n",
    "api_client = BinanceUSClient(api_key=None, api_secret=None)\n",
    "connection_status = api_client.connect()\n",
    "\n",
    "if connection_status:\n",
    "    print(\"Успешное подключение к Binance US API\")\n",
    "else:\n",
    "    print(\"Ошибка подключения к Binance US API\")\n",
    "    raise Exception(\"Не удалось подключиться к API\")\n",
    "\n",
    "# Инициализация менеджера базы данных\n",
    "db_manager = LocalDataManager(db_path='binance_data.db')\n",
    "\n",
    "# Создание и отображение интерактивного интерфейса\n",
    "ui = DataDownloaderUI(api_client, db_manager)\n",
    "ui.display()\n",
    "\n",
    "# Примечание: После запуска интерфейса, вы можете выбрать торговую пару, \n",
    "# таймфрейм, период и загрузить данные. \n",
    "# При желании, вы можете добавить дополнительный код для \n",
    "# программного получения данных ниже. "
   ]
  },
  {
   "cell_type": "markdown",
   "metadata": {},
   "source": [
    "## Интеграция с Google Cloud SQL\n",
    "\n",
    "Для использования Google Cloud SQL необходимо выполнить несколько шагов:\n",
    "\n",
    "1. Создать проект в Google Cloud Platform\n",
    "2. Активировать Cloud SQL API\n",
    "3. Создать экземпляр MySQL в Cloud SQL\n",
    "4. Настроить доступ и создать пользователя базы данных\n",
    "5. Установить необходимые зависимости\n",
    "\n",
    "После этого можно использовать CloudDataManager для хранения данных в Google Cloud SQL."
   ]
  },
  {
   "cell_type": "code",
   "execution_count": null,
   "metadata": {},
   "outputs": [],
   "source": [
    "# Установка дополнительных зависимостей для работы с Google Cloud SQL\n",
    "!pip install sqlalchemy pymysql cryptography google-cloud-storage google-cloud-sql\n",
    "\n",
    "# Импорт необходимых классов для работы с облачной БД\n",
    "from binance_data_framework import CloudDataManager, DataSynchronizer"
   ]
  },
  {
   "cell_type": "markdown",
   "metadata": {},
   "source": [
    "### Аутентификация в Google Cloud\n",
    "\n",
    "Для работы с Google Cloud SQL необходимо выполнить аутентификацию. В Google Colab есть несколько способов аутентификации:\n",
    "\n",
    "1. Через сервисный аккаунт (рекомендуется)\n",
    "2. Через интерактивную аутентификацию пользователя\n",
    "\n",
    "Ниже приведен пример интерактивной аутентификации."
   ]
  },
  {
   "cell_type": "code",
   "execution_count": null,
   "metadata": {},
   "outputs": [],
   "source": [
    "# Аутентификация в Google Cloud Platform\n",
    "from google.colab import auth\n",
    "auth.authenticate_user()"
   ]
  },
  {
   "cell_type": "markdown",
   "metadata": {},
   "source": [
    "### Использование Cloud SQL Proxy (опционально)\n",
    "\n",
    "Для более безопасного соединения с базой данных можно использовать Cloud SQL Proxy. Это особенно полезно при работе вне среды Google Cloud."
   ]
  },
  {
   "cell_type": "code",
   "execution_count": null,
   "metadata": {},
   "outputs": [],
   "source": [
    "# Установка Cloud SQL Proxy (опционально)\n",
    "!wget https://dl.google.com/cloudsql/cloud_sql_proxy.linux.amd64 -O cloud_sql_proxy\n",
    "!chmod +x cloud_sql_proxy\n",
    "\n",
    "# Запуск Cloud SQL Proxy для подключения к Cloud SQL\n",
    "# !./cloud_sql_proxy -instances=YOUR_CONNECTION_NAME=tcp:3306 &\n",
    "\n",
    "# Пример:\n",
    "# !./cloud_sql_proxy -instances=your-project:us-central1:binance-data=tcp:3306 &"
   ]
  },
  {
   "cell_type": "markdown",
   "metadata": {},
   "source": [
    "### Подключение к Google Cloud SQL\n",
    "\n",
    "Теперь можно создать экземпляр CloudDataManager для работы с базой данных Google Cloud SQL."
   ]
  },
  {
   "cell_type": "code",
   "execution_count": null,
   "metadata": {},
   "outputs": [],
   "source": [
    "# Параметры подключения к Cloud SQL\n",
    "# Замените эти значения на свои\n",
    "project_id = 'your-project-id'  # ID вашего проекта в Google Cloud\n",
    "region = 'us-central1'          # Регион, где размещен экземпляр\n",
    "instance_name = 'binance-data'  # Имя экземпляра Cloud SQL\n",
    "db_name = 'binance_db'          # Имя базы данных\n",
    "db_user = 'root'                # Имя пользователя\n",
    "db_password = 'your-password'   # Пароль пользователя\n",
    "\n",
    "# Если используете Cloud SQL Proxy, установите use_proxy=True\n",
    "use_proxy = True  # Установите False для прямого подключения в Cloud Run или AppEngine\n",
    "\n",
    "# Создаем экземпляр CloudDataManager\n",
    "try:\n",
    "    cloud_manager = CloudDataManager(\n",
    "        db_user=db_user,\n",
    "        db_password=db_password,\n",
    "        db_name=db_name,\n",
    "        project_id=project_id,\n",
    "        instance_name=instance_name,\n",
    "        region=region,\n",
    "        use_proxy=use_proxy\n",
    "    )\n",
    "    print(\"Успешное подключение к Google Cloud SQL\")\n",
    "except Exception as e:\n",
    "    print(f\"Ошибка подключения к Google Cloud SQL: {e}\")"
   ]
  },
  {
   "cell_type": "markdown",
   "metadata": {},
   "source": [
    "## Синхронизация данных между локальной и облачной базой\n",
    "\n",
    "С помощью класса DataSynchronizer можно синхронизировать данные между локальной SQLite базой и облачной базой Google Cloud SQL."
   ]
  },
  {
   "cell_type": "code",
   "execution_count": null,
   "metadata": {},
   "outputs": [],
   "source": [
    "# Создаем экземпляр синхронизатора данных\n",
    "try:\n",
    "    sync_manager = DataSynchronizer(\n",
    "        local_manager=db_manager,\n",
    "        cloud_manager=cloud_manager\n",
    "    )\n",
    "    \n",
    "    # Синхронизация данных из локальной базы в облачную\n",
    "    print(\"Синхронизация из локальной базы в облачную...\")\n",
    "    sync_stats = sync_manager.sync_local_to_cloud()\n",
    "    print(f\"Синхронизировано {sync_stats['symbols_synced']} символов, {sync_stats['records_synced']} записей\")\n",
    "    print(f\"Ошибок: {sync_stats['errors']}\")\n",
    "    \n",
    "    # Синхронизация данных из облачной базы в локальную\n",
    "    # print(\"Синхронизация из облачной базы в локальную...\")\n",
    "    # sync_stats = sync_manager.sync_cloud_to_local()\n",
    "    # print(f\"Синхронизировано {sync_stats['symbols_synced']} символов, {sync_stats['records_synced']} записей\")\n",
    "    # print(f\"Ошибок: {sync_stats['errors']}\")\n",
    "except Exception as e:\n",
    "    print(f\"Ошибка при синхронизации данных: {e}\")"
   ]
  },
  {
   "cell_type": "markdown",
   "metadata": {},
   "source": [
    "## Пример использования данных из облачного хранилища\n",
    "\n",
    "Вы можете использовать CloudDataManager так же, как и LocalDataManager, для чтения и записи данных."
   ]
  },
  {
   "cell_type": "code",
   "execution_count": null,
   "metadata": {},
   "outputs": [],
   "source": [
    "# Пример получения данных из облачного хранилища\n",
    "symbol = 'BTCUSDT'\n",
    "timeframe = '1h'\n",
    "end_date = datetime.now()\n",
    "start_date = end_date - timedelta(days=30)\n",
    "\n",
    "try:\n",
    "    # Проверяем наличие данных в облачной базе\n",
    "    data_exists, date_range = cloud_manager.check_data_exists(symbol, timeframe, start_date, end_date)\n",
    "    \n",
    "    if data_exists:\n",
    "        # Получаем данные из облачной базы\n",
    "        print(f\"Получение данных для {symbol} на таймфрейме {timeframe} из облачного хранилища\")\n",
    "        df = cloud_manager.get_data(symbol, timeframe, start_date, end_date)\n",
    "        \n",
    "        if not df.empty:\n",
    "            print(f\"Получено {len(df)} свечей\")\n",
    "            print(\"\\nПервые 5 строк:\")\n",
    "            display(df.head())\n",
    "            \n",
    "            # Визуализация данных\n",
    "            plt.figure(figsize=(12, 6))\n",
    "            plt.plot(df.index, df['close'])\n",
    "            plt.title(f'{symbol} - {timeframe} (Cloud Storage)')\n",
    "            plt.grid(True)\n",
    "            plt.show()\n",
    "    else:\n",
    "        # Данных нет, загружаем из API и сохраняем в облачную базу\n",
    "        print(f\"Данные для {symbol} не найдены в облачной базе, загрузка из API...\")\n",
    "        df = api_client.get_historical_data(symbol, timeframe, start_date, end_date)\n",
    "        \n",
    "        if not df.empty:\n",
    "            # Сохраняем данные в облачную базу\n",
    "            cloud_manager.save_data(df, symbol, timeframe)\n",
    "            print(f\"Данные сохранены в облачную базу\")\n",
    "            \n",
    "            # Визуализация данных\n",
    "            plt.figure(figsize=(12, 6))\n",
    "            plt.plot(df.index, df['close'])\n",
    "            plt.title(f'{symbol} - {timeframe} (Cloud Storage)')\n",
    "            plt.grid(True)\n",
    "            plt.show()\n",
    "except Exception as e:\n",
    "    print(f\"Ошибка при работе с облачным хранилищем: {e}\")"
   ]
  },
  {
   "cell_type": "markdown",
   "metadata": {},
   "source": [
    "## Информация о данных в облачном хранилище\n",
    "\n",
    "Вы можете получить информацию о всех сохраненных данных в Google Cloud SQL."
   ]
  },
  {
   "cell_type": "code",
   "execution_count": null,
   "metadata": {},
   "outputs": [],
   "source": [
    "# Получение информации о сохраненных данных в облачной базе\n",
    "try:\n",
    "    cloud_info = cloud_manager.get_stored_info()\n",
    "    \n",
    "    if not cloud_info.empty:\n",
    "        print(\"Информация о данных в облачном хранилище:\")\n",
    "        display(cloud_info)\n",
    "        \n",
    "        # Получаем статистику по символам и таймфреймам\n",
    "        symbols = cloud_info['symbol'].unique()\n",
    "        timeframes = cloud_info['timeframe'].unique()\n",
    "        \n",
    "        print(f\"Всего символов: {len(symbols)}\")\n",
    "        print(f\"Всего таймфреймов: {len(timeframes)}\")\n",
    "        \n",
    "        # Вычисляем общий размер данных\n",
    "        total_days = 0\n",
    "        for _, row in cloud_info.iterrows():\n",
    "            days = (row['end_date'] - row['start_date']).total_seconds() / (60 * 60 * 24)\n",
    "            total_days += days\n",
    "            \n",
    "        avg_size_per_day_mb = 0.01  # Примерный размер данных за один день в МБ\n",
    "        estimated_size_mb = total_days * avg_size_per_day_mb * len(timeframes)\n",
    "        \n",
    "        print(f\"Приблизительный размер данных: {estimated_size_mb:.2f} МБ\")\n",
    "    else:\n",
    "        print(\"В облачной базе нет сохраненных данных\")\n",
    "except Exception as e:\n",
    "    print(f\"Ошибка при получении информации о данных в облачном хранилище: {e}\")"
   ]
  },
  {
   "cell_type": "markdown",
   "metadata": {},
   "source": [
    "## Закрытие соединений\n",
    "\n",
    "Важно закрывать соединения с базами данных после завершения работы."
   ]
  },
  {
   "cell_type": "code",
   "execution_count": null,
   "metadata": {},
   "outputs": [],
   "source": [
    "# Закрытие соединений с базами данных\n",
    "try:\n",
    "    db_manager.close()\n",
    "    print(\"Соединение с локальной базой данных закрыто\")\n",
    "except:\n",
    "    pass\n",
    "\n",
    "try:\n",
    "    cloud_manager.close()\n",
    "    print(\"Соединение с облачной базой данных закрыто\")\n",
    "except:\n",
    "    pass"
   ]
  }
 ],
 "metadata": {
  "kernelspec": {
   "display_name": "Python 3.7",
   "language": "python",
   "name": "py37"
  },
  "language_info": {
   "codemirror_mode": {
    "name": "ipython",
    "version": 3
   },
   "file_extension": ".py",
   "mimetype": "text/x-python",
   "name": "python",
   "nbconvert_exporter": "python",
   "pygments_lexer": "ipython3",
   "version": "3.10.11"
  }
 },
 "nbformat": 4,
 "nbformat_minor": 2
}
