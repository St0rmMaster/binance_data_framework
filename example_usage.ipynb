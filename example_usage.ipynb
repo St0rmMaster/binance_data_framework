{
 "cells": [
  {
   "cell_type": "code",
   "execution_count": null,
   "metadata": {
    "vscode": {
     "languageId": "plaintext"
    }
   },
   "outputs": [],
   "source": [
    "# ШАГ 1: Установка обновленного фреймворка\n",
    "!pip install --no-cache-dir git+https://github.com/St0rmMaster/binance_data_framework.git --quiet\n",
    "\n",
    "# ШАГ 2: Минимально необходимые импорты\n",
    "from google.colab import output\n",
    "# Больше не нужен импорт userdata здесь\n",
    "from binance_data_framework import BinanceUSClient, LocalDataManager, DataDownloaderUI\n",
    "\n",
    "# ШАГ 3: Инициализация объектов (ключи будут загружены внутри клиента)\n",
    "api_client = BinanceUSClient() # Просто вызываем без аргументов\n",
    "\n",
    "# ШАГ 4: Инициализация менеджера данных\n",
    "# Вариант 1: Использование пути по умолчанию в Google Drive (если запускается в Colab)\n",
    "# Библиотека автоматически попытается смонтировать Drive, если он еще не смонтирован.\n",
    "db_manager = LocalDataManager()\n",
    "print(f\"Путь к БД (по умолчанию): {db_manager.db_path}\")\n",
    "\n",
    "# # --- Пример инициализации с пользовательским путем на Google Drive ---\n",
    "# # Убедитесь, что папка /content/drive/MyDrive/MyColabData существует на вашем Google Drive\n",
    "# custom_db_path = '/content/drive/MyDrive/MyColabData/my_custom_binance_data.db'\n",
    "# db_manager_custom = LocalDataManager(db_path=custom_db_path)\n",
    "# print(f\"Путь к БД (пользовательский): {db_manager_custom.db_path}\")\n",
    "# # Если вы хотите использовать этот экземпляр вместо стандартного:\n",
    "# # db_manager = db_manager_custom # Раскомментируйте эту строку\n",
    "# # --------------------------------------------------------------------\n",
    "\n",
    "# ШАГ 5: Включение поддержки виджетов\n",
    "output.enable_custom_widget_manager()\n",
    "\n",
    "# ШАГ 6: Создание и отображение интерфейса\n",
    "# Убедитесь, что используется нужный db_manager (по умолчанию или пользовательский)\n",
    "ui = DataDownloaderUI(api_client=api_client, db_manager=db_manager)\n",
    "ui.display()"
   ]
  }
 ],
 "metadata": {
  "kernelspec": {
   "display_name": "Python 3.7",
   "language": "python",
   "name": "py37"
  },
  "language_info": {
   "codemirror_mode": {
    "name": "ipython",
    "version": 3
   },
   "file_extension": ".py",
   "mimetype": "text/x-python",
   "name": "python",
   "nbconvert_exporter": "python",
   "pygments_lexer": "ipython3",
   "version": "3.10.11"
  }
 },
 "nbformat": 4,
 "nbformat_minor": 2
}
